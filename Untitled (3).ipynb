{
 "cells": [
  {
   "cell_type": "markdown",
   "id": "d1d8c4d6-3fb9-418d-b6f4-959d204ace52",
   "metadata": {},
   "source": [
    "Q1. List any five functions of the pandas library with execution."
   ]
  },
  {
   "cell_type": "markdown",
   "id": "f7a6fa22-a75c-4202-a3f6-b6abdaa27e6b",
   "metadata": {},
   "source": [
    "read_csv() - read a CSV file and store its content in a pandas DataFrame object"
   ]
  },
  {
   "cell_type": "code",
   "execution_count": null,
   "id": "43e9546d-4523-44f7-804b-89a7340160ac",
   "metadata": {},
   "outputs": [],
   "source": [
    "import pandas as pd\n",
    "\n",
    "# read CSV file\n",
    "df = pd.read_csv('data.csv')\n",
    "\n",
    "# display first 5 rows of data\n",
    "print(df.head())\n"
   ]
  },
  {
   "cell_type": "markdown",
   "id": "e0d68a21-3210-4e98-9f14-b8cea8cdb79c",
   "metadata": {},
   "source": [
    "dropna() - drop rows with missing values from a DataFrame.\n"
   ]
  },
  {
   "cell_type": "code",
   "execution_count": null,
   "id": "5dbd1128-14d1-49e5-9e6f-479002e6bb25",
   "metadata": {},
   "outputs": [],
   "source": [
    "import pandas as pd\n",
    "\n",
    "# read CSV file\n",
    "df = pd.read_csv('data.csv')\n",
    "\n",
    "# drop rows with missing values\n",
    "df.dropna(inplace=True)\n",
    "\n",
    "# display first 5 rows of data\n",
    "print(df.head())\n"
   ]
  },
  {
   "cell_type": "markdown",
   "id": "f377a23f-e115-4a83-9766-660888c457d0",
   "metadata": {},
   "source": [
    "groupby() - group rows of a DataFrame by one or more columns and apply aggregate functions to each group."
   ]
  },
  {
   "cell_type": "code",
   "execution_count": null,
   "id": "afdae643-0a92-4146-8c57-c12e9a7327d5",
   "metadata": {},
   "outputs": [],
   "source": [
    "import pandas as pd\n",
    "\n",
    "# read CSV file\n",
    "df = pd.read_csv('data.csv')\n",
    "\n",
    "# group by 'category' column and compute mean of 'value' column for each group\n",
    "grouped = df.groupby('category')['value'].mean()\n",
    "\n",
    "# display result\n",
    "print(grouped)\n"
   ]
  },
  {
   "cell_type": "markdown",
   "id": "257fd588-1f8d-4b20-b3ee-41fc970f01b0",
   "metadata": {},
   "source": [
    "merge() - merge two DataFrames based on a common column."
   ]
  },
  {
   "cell_type": "code",
   "execution_count": null,
   "id": "6ea44302-6a0c-4708-8cdd-3c11cff54656",
   "metadata": {},
   "outputs": [],
   "source": [
    "import pandas as pd\n",
    "\n",
    "# read CSV files\n",
    "orders = pd.read_csv('orders.csv')\n",
    "customers = pd.read_csv('customers.csv')\n",
    "\n",
    "# merge DataFrames based on 'customer_id' column\n",
    "merged = pd.merge(orders, customers, on='customer_id')\n",
    "\n",
    "# display result\n",
    "print(merged.head())\n"
   ]
  },
  {
   "cell_type": "markdown",
   "id": "7e5a51fd-225a-4285-8729-b08cb48d3aa8",
   "metadata": {},
   "source": [
    "pivot_table() - create a pivot table from a DataFrame."
   ]
  },
  {
   "cell_type": "code",
   "execution_count": null,
   "id": "4cf21b2e-e49f-4b2c-a07d-d66171522ca4",
   "metadata": {},
   "outputs": [],
   "source": [
    "import pandas as pd\n",
    "\n",
    "# read CSV file\n",
    "df = pd.read_csv('data.csv')\n",
    "\n",
    "# create pivot table with 'category' column as rows, 'month' column as columns,\n",
    "# and 'value' column as values\n",
    "pivot = df.pivot_table(index='category', columns='month', values='value')\n",
    "\n",
    "# display result\n",
    "print(pivot)\n"
   ]
  },
  {
   "cell_type": "markdown",
   "id": "6729895c-2ce1-4e46-b392-4f7b6ccb069f",
   "metadata": {},
   "source": [
    "Q2. Given a Pandas DataFrame df with columns 'A', 'B', and 'C', write a Python function to re-index the\n",
    "DataFrame with a new index that starts from 1 and increments by 2 for each row."
   ]
  },
  {
   "cell_type": "code",
   "execution_count": 6,
   "id": "64b47062-f556-4fb6-9133-ae8993a95fe8",
   "metadata": {},
   "outputs": [],
   "source": [
    "import pandas as pd\n",
    "\n",
    "def reindex_df(df):\n",
    "    # get the number of rows in the DataFrame\n",
    "    num_rows = df.shape[0]\n",
    "    \n",
    "    # create a new index that starts from 1 and increments by 2 for each row\n",
    "    new_index = range(1, num_rows*2+1, 2)\n",
    "    \n",
    "    # set the new index for the DataFrame\n",
    "    df.index = new_index\n",
    "    \n",
    "    return df\n"
   ]
  },
  {
   "cell_type": "markdown",
   "id": "a303b5a6-a77c-4773-ae0c-c983988b2d30",
   "metadata": {},
   "source": [
    "You can call this function with your DataFrame 'df' like this:"
   ]
  },
  {
   "cell_type": "code",
   "execution_count": 7,
   "id": "b1fd2f5f-629c-4bb8-baa9-7fb5ff901a10",
   "metadata": {},
   "outputs": [
    {
     "name": "stdout",
     "output_type": "stream",
     "text": [
      "   A  B  C\n",
      "1  1  4  7\n",
      "3  2  5  8\n",
      "5  3  6  9\n"
     ]
    }
   ],
   "source": [
    "# create the DataFrame\n",
    "df = pd.DataFrame({'A': [1, 2, 3], 'B': [4, 5, 6], 'C': [7, 8, 9]})\n",
    "\n",
    "# re-index the DataFrame\n",
    "df = reindex_df(df)\n",
    "\n",
    "# print the DataFrame\n",
    "print(df)\n"
   ]
  },
  {
   "cell_type": "markdown",
   "id": "db2dcd57-6ba9-4958-948e-be314b1d9858",
   "metadata": {},
   "source": [
    "Q.3 You have a Pandas DataFrame df with a column named 'Values'. Write a Python function that\n",
    "iterates over the DataFrame and calculates the sum of the first three values in the 'Values' column. The\n",
    "function should print the sum to the console."
   ]
  },
  {
   "cell_type": "code",
   "execution_count": 8,
   "id": "bb0102ff-296b-48d5-b368-f85136f036b4",
   "metadata": {},
   "outputs": [],
   "source": [
    "import pandas as pd\n",
    "\n",
    "def sum_first_three(df):\n",
    "    # get the first three values in the 'Values' column\n",
    "    first_three = df['Values'].head(3)\n",
    "    \n",
    "    # calculate the sum of the first three values\n",
    "    total = first_three.sum()\n",
    "    \n",
    "    # print the sum to the console\n",
    "    print(total)\n"
   ]
  },
  {
   "cell_type": "markdown",
   "id": "21c5fd13-a988-40ab-882e-4ae825898bc4",
   "metadata": {},
   "source": [
    "You can call this function with your DataFrame 'df' like this:"
   ]
  },
  {
   "cell_type": "code",
   "execution_count": 9,
   "id": "5816d1f8-d385-43e8-83d3-ea7dc35d0f7e",
   "metadata": {},
   "outputs": [
    {
     "name": "stdout",
     "output_type": "stream",
     "text": [
      "6\n"
     ]
    }
   ],
   "source": [
    "# create the DataFrame\n",
    "df = pd.DataFrame({'Values': [1, 2, 3, 4, 5, 6, 7, 8, 9, 10]})\n",
    "\n",
    "# calculate the sum of the first three values\n",
    "sum_first_three(df)\n"
   ]
  },
  {
   "cell_type": "markdown",
   "id": "292ec735-950e-42a1-91cc-8432d77b2325",
   "metadata": {},
   "source": [
    "Q4. Given a Pandas DataFrame df with a column 'Text', write a Python function to create a new column\n",
    "'Word_Count' that contains the number of words in each row of the 'Text' column."
   ]
  },
  {
   "cell_type": "markdown",
   "id": "225777fa-cde2-413a-962b-82d5e5c24f86",
   "metadata": {},
   "source": [
    "Sure! Here's a Python function that creates a new column 'Word_Count' in a Pandas DataFrame 'df' that contains the number of words in each row of the 'Text' column:"
   ]
  },
  {
   "cell_type": "code",
   "execution_count": 10,
   "id": "8c9584d2-7a95-40b2-b591-d155a9768d9e",
   "metadata": {},
   "outputs": [],
   "source": [
    "import pandas as pd\n",
    "\n",
    "def add_word_count(df):\n",
    "    # create a new column 'Word_Count' that contains the number of words in each row of the 'Text' column\n",
    "    df['Word_Count'] = df['Text'].str.split().str.len()\n",
    "    \n",
    "    return df\n"
   ]
  },
  {
   "cell_type": "code",
   "execution_count": 11,
   "id": "f0d5eaf9-d5b7-418c-a6dd-9620a5634222",
   "metadata": {},
   "outputs": [
    {
     "name": "stdout",
     "output_type": "stream",
     "text": [
      "                       Text  Word_Count\n",
      "0        This is a sentence           4\n",
      "1  This is another sentence           4\n",
      "2  This is a third sentence           5\n"
     ]
    }
   ],
   "source": [
    "# create the DataFrame\n",
    "df = pd.DataFrame({'Text': ['This is a sentence', 'This is another sentence', 'This is a third sentence']})\n",
    "\n",
    "# create a new column 'Word_Count' that contains the number of words in each row of the 'Text' column\n",
    "df = add_word_count(df)\n",
    "\n",
    "# print the DataFrame\n",
    "print(df)\n"
   ]
  },
  {
   "cell_type": "markdown",
   "id": "04f5c584-203e-4706-9560-e299aea8048b",
   "metadata": {},
   "source": [
    "Q5. How are DataFrame.size() and DataFrame.shape() different?"
   ]
  },
  {
   "cell_type": "markdown",
   "id": "9424740b-9ad5-4552-8d39-d4899989beaf",
   "metadata": {},
   "source": [
    "Both DataFrame.size() and DataFrame.shape() are used to retrieve information about the dimensions of a Pandas DataFrame, but they return different values."
   ]
  },
  {
   "cell_type": "markdown",
   "id": "f043c27e-eb5f-44ad-b635-f7c98993a20f",
   "metadata": {},
   "source": [
    "DataFrame.size() returns the total number of elements in the DataFrame. It's equivalent to the product of the number of rows and columns in the DataFrame. For example:"
   ]
  },
  {
   "cell_type": "code",
   "execution_count": 12,
   "id": "9817898e-0fba-4441-9fb6-16add8abaa2a",
   "metadata": {},
   "outputs": [
    {
     "name": "stdout",
     "output_type": "stream",
     "text": [
      "6\n"
     ]
    }
   ],
   "source": [
    "import pandas as pd\n",
    "\n",
    "df = pd.DataFrame({'A': [1, 2, 3], 'B': [4, 5, 6]})\n",
    "size = df.size\n",
    "print(size)\n"
   ]
  },
  {
   "cell_type": "markdown",
   "id": "62e23b89-39bb-4bd6-a6a3-cef371deb471",
   "metadata": {},
   "source": [
    "In this case, the DataFrame has 2 columns and 3 rows, so the total number of elements is 2 x 3 = 6.\n",
    "\n",
    "On the other hand, DataFrame.shape() returns a tuple that contains the number of rows and columns in the DataFrame, respectively. For example:"
   ]
  },
  {
   "cell_type": "code",
   "execution_count": 13,
   "id": "d24f2448-448b-4952-89a5-02db3b977063",
   "metadata": {},
   "outputs": [
    {
     "name": "stdout",
     "output_type": "stream",
     "text": [
      "(3, 2)\n"
     ]
    }
   ],
   "source": [
    "import pandas as pd\n",
    "\n",
    "df = pd.DataFrame({'A': [1, 2, 3], 'B': [4, 5, 6]})\n",
    "shape = df.shape\n",
    "print(shape)\n"
   ]
  },
  {
   "cell_type": "markdown",
   "id": "a6e15edf-7346-4894-8144-6db48727f8df",
   "metadata": {},
   "source": [
    "In this case, the DataFrame has 2 columns and 3 rows, so the tuple returned by DataFrame.shape() is (3, 2). The first element of the tuple represents the number of rows, and the second element represents the number of columns.\n",
    "\n",
    "So, in summary, DataFrame.size() returns the total number of elements in the DataFrame, while DataFrame.shape() returns a tuple that contains the number of rows and columns in the DataFrame.\n",
    "\n",
    "\n",
    "\n"
   ]
  },
  {
   "cell_type": "markdown",
   "id": "cc90e417-92d8-4c57-8e61-883d72bdc4a1",
   "metadata": {},
   "source": [
    "Q.6 Which function of pandas do we use to read an excel file?"
   ]
  },
  {
   "cell_type": "markdown",
   "id": "ee992f0d-ab12-4532-bee0-d9e63c07bd1a",
   "metadata": {},
   "source": [
    "To read an Excel file in pandas, we can use the pandas.read_excel() function.\n",
    "\n",
    "The pandas.read_excel() function is a convenient function for reading Excel files into a pandas DataFrame. This function supports a wide range of input formats, including Excel files with XLS and XLSX file extensions.\n",
    "\n",
    "Here's an example of how to use pandas.read_excel() to read an Excel file"
   ]
  },
  {
   "cell_type": "code",
   "execution_count": null,
   "id": "e4f0555c-3ac7-40fa-987a-193e151298e3",
   "metadata": {},
   "outputs": [],
   "source": [
    "import pandas as pd\n",
    "\n",
    "# read an Excel file into a pandas DataFrame\n",
    "df = pd.read_excel('example.xlsx')\n",
    "\n",
    "# print the DataFrame\n",
    "print(df)\n"
   ]
  },
  {
   "cell_type": "markdown",
   "id": "aa3c0af0-a206-4efd-8763-8292f4a10d78",
   "metadata": {},
   "source": [
    "Q.7 You have a Pandas DataFrame df that contains a column named 'Email' that contains email\n",
    "addresses in the format 'username@domain.com'. Write a Python function that creates a new column\n",
    "'Username' in df that contains only the username part of each email address."
   ]
  },
  {
   "cell_type": "code",
   "execution_count": 16,
   "id": "f983ece2-d955-4c03-9715-21ccf3362b37",
   "metadata": {},
   "outputs": [],
   "source": [
    "import pandas as pd\n",
    "\n",
    "def add_username(df):\n",
    "    # extract the username from the 'Email' column and create a new column 'Username'\n",
    "    df['Username'] = df['Email'].str.split('@').str[0]\n",
    "    \n",
    "    return df\n"
   ]
  },
  {
   "cell_type": "code",
   "execution_count": 17,
   "id": "d4690fd7-94dc-4dde-bb2b-4fb38956f61a",
   "metadata": {},
   "outputs": [
    {
     "name": "stdout",
     "output_type": "stream",
     "text": [
      "               Email Username\n",
      "0  user1@example.com    user1\n",
      "1  user2@example.com    user2\n",
      "2  user3@example.com    user3\n"
     ]
    }
   ],
   "source": [
    "# create the DataFrame\n",
    "df = pd.DataFrame({'Email': ['user1@example.com', 'user2@example.com', 'user3@example.com']})\n",
    "\n",
    "# create a new column 'Username' that contains only the username part of each email address in the 'Email' column\n",
    "df = add_username(df)\n",
    "\n",
    "# print the DataFrame\n",
    "print(df)\n"
   ]
  },
  {
   "cell_type": "markdown",
   "id": "d537e0d6-5794-4269-981e-d7b3a4ea186f",
   "metadata": {},
   "source": [
    "Q8. You have a Pandas DataFrame df with columns 'A', 'B', and 'C'. Write a Python function that selects\n",
    "all rows where the value in column 'A' is greater than 5 and the value in column 'B' is less than 10. The\n",
    "function should return a new DataFrame that contains only the selected rows.\n",
    "For example, if df contains the following values:\n",
    "A B C\n",
    "0 3 5 1\n",
    "1 8 2 7\n",
    "2 6 9 4\n",
    "3 2 3 5\n",
    "4 9 1 2"
   ]
  },
  {
   "cell_type": "markdown",
   "id": "5d98bed7-54e7-4e6a-b439-983cad528fd8",
   "metadata": {},
   "source": [
    "Certainly! Here's a Python function that selects all rows where the value in column 'A' is greater than 5 and the value in column 'B' is less than 10, and returns a new DataFrame that contains only the selected rows:"
   ]
  },
  {
   "cell_type": "code",
   "execution_count": null,
   "id": "f3258a38-3991-4858-a6bd-9e94e2ad7464",
   "metadata": {},
   "outputs": [],
   "source": [
    "import pandas as pd\n",
    "\n",
    "def select_rows(df):\n",
    "    # select rows where the value in column 'A' is greater than 5 and the value in column 'B' is less than 10\n",
    "    selected_rows = df[(df['A'] > 5) & (df['B'] < 10)]\n",
    "    \n",
    "    return selected_rows\n"
   ]
  },
  {
   "cell_type": "code",
   "execution_count": null,
   "id": "16da528a-f303-4569-b328-0da1002606a1",
   "metadata": {},
   "outputs": [],
   "source": [
    "# create the DataFrame\n",
    "df = pd.DataFrame({'A': [3, 8, 6, 2, 9], 'B': [5, 2, 9, 3, 1], 'C': [1, 7, 4, 5, 2]})\n",
    "\n",
    "# select all rows where the value in column 'A' is greater than 5 and the value in column 'B' is less than 10\n",
    "selected_rows = select_rows(df)\n",
    "\n",
    "# print the selected rows\n",
    "print(selected_rows)\n"
   ]
  },
  {
   "cell_type": "code",
   "execution_count": null,
   "id": "4c05d678-ba52-475c-a743-956d41429d5f",
   "metadata": {},
   "outputs": [],
   "source": [
    "this should output\n",
    "   A  B  C\n",
    "1  8  2  7\n",
    "2  6"
   ]
  }
 ],
 "metadata": {
  "kernelspec": {
   "display_name": "Python 3 (ipykernel)",
   "language": "python",
   "name": "python3"
  },
  "language_info": {
   "codemirror_mode": {
    "name": "ipython",
    "version": 3
   },
   "file_extension": ".py",
   "mimetype": "text/x-python",
   "name": "python",
   "nbconvert_exporter": "python",
   "pygments_lexer": "ipython3",
   "version": "3.10.8"
  }
 },
 "nbformat": 4,
 "nbformat_minor": 5
}
